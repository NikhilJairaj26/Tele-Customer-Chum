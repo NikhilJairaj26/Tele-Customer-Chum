{
 "cells": [
  {
   "cell_type": "code",
   "execution_count": 4,
   "id": "92bb3fbb",
   "metadata": {},
   "outputs": [
    {
     "data": {
      "text/plain": [
       "customerID          0\n",
       "DeviceProtection    0\n",
       "TotalCharges        0\n",
       "MonthlyCharges      0\n",
       "PaymentMethod       0\n",
       "PaperlessBilling    0\n",
       "Contract            0\n",
       "StreamingMovies     0\n",
       "StreamingTV         0\n",
       "TechSupport         0\n",
       "dtype: int64"
      ]
     },
     "execution_count": 4,
     "metadata": {},
     "output_type": "execute_result"
    }
   ],
   "source": [
    "import pandas as pd\n",
    "import numpy as np\n",
    "\n",
    "path=r\"D:\\Data_Science\\Project\\Tele-Customer-Chum\\Telco-Customer-Churn.csv\"\n",
    "df=pd.read_csv(path)\n",
    "\n",
    "df.shape,df.dtypes.head()\n",
    "\n",
    "df.head(3)\n",
    "\n",
    "df.isna().sum().sort_values(ascending=False).head(10)\n"
   ]
  },
  {
   "cell_type": "code",
   "execution_count": 10,
   "id": "1a8f474e",
   "metadata": {},
   "outputs": [
    {
     "name": "stdout",
     "output_type": "stream",
     "text": [
      "Dropped due to TotalCharges NAN: 11\n"
     ]
    },
    {
     "data": {
      "text/plain": [
       "gender              0\n",
       "SeniorCitizen       0\n",
       "TotalCharges        0\n",
       "MonthlyCharges      0\n",
       "PaymentMethod       0\n",
       "PaperlessBilling    0\n",
       "Contract            0\n",
       "StreamingMovies     0\n",
       "StreamingTV         0\n",
       "TechSupport         0\n",
       "dtype: int64"
      ]
     },
     "execution_count": 10,
     "metadata": {},
     "output_type": "execute_result"
    }
   ],
   "source": [
    "df=df.drop(columns=[\"customerID\"],errors=\"ignore\")#identifier droped\n",
    "\n",
    "obj_cols=df.select_dtypes(include=\"object\").columns #Strip whitespace for all the features/columns\n",
    "for c in obj_cols:\n",
    "    df[c]=df[c].astype(str).str.strip()#made into string \n",
    "\n",
    "df[\"TotalCharges\"]= pd.to_numeric(df['TotalCharges'],errors=\"coerce\")\n",
    "rows_before = len(df)\n",
    "df = df.dropna(subset=[\"TotalCharges\"]) \n",
    "print(\"Dropped due to TotalCharges NAN:\",rows_before-len(df))\n",
    "\n",
    "df.isna().sum().sort_values(ascending=False).head(10)"
   ]
  },
  {
   "cell_type": "code",
   "execution_count": null,
   "id": "4061a291",
   "metadata": {},
   "outputs": [
    {
     "name": "stdout",
     "output_type": "stream",
     "text": [
      "Churn unique: ['No' 'Yes']\n",
      "gender unique: ['Female' 'Male']\n",
      "Contract unique: ['Month-to-month' 'One year' 'Two year']\n"
     ]
    }
   ],
   "source": [
    "# Verify and standardize a few binary columns\n",
    "yes_no_cols = [\n",
    "    \"Churn\",\"Partner\",\"Dependents\",\"PhoneService\",\"PaperlessBilling\",\n",
    "    \"MultipleLines\",\"OnlineSecurity\",\"OnlineBackup\",\"DeviceProtection\",\n",
    "    \"TechSupport\",\"StreamingTV\",\"StreamingMovies\"\n",
    "]\n",
    "for c in yes_no_cols:\n",
    "    if c in df.columns:\n",
    "        df[c] = df[c].replace({\"Yes\":\"Yes\",\"No\":\"No\"})\n",
    "\n",
    "print(\"Churn unique:\", df[\"Churn\"].unique())\n",
    "print(\"gender unique:\", df[\"gender\"].unique())\n",
    "print(\"Contract unique:\", df[\"Contract\"].unique())\n"
   ]
  },
  {
   "cell_type": "code",
   "execution_count": 12,
   "id": "42165dfd",
   "metadata": {},
   "outputs": [
    {
     "name": "stdout",
     "output_type": "stream",
     "text": [
      "(7032, 19) (7032,) Churn rate: 0.266\n"
     ]
    }
   ],
   "source": [
    "X = df.drop(columns=[\"Churn\"])\n",
    "y = df[\"Churn\"].map({\"Yes\":1, \"No\":0})\n",
    "print(X.shape, y.shape, \"Churn rate:\", round(y.mean(), 3))\n"
   ]
  },
  {
   "cell_type": "markdown",
   "id": "3da5ece0",
   "metadata": {},
   "source": [
    "#Training"
   ]
  },
  {
   "cell_type": "code",
   "execution_count": 14,
   "id": "977fa7a2",
   "metadata": {},
   "outputs": [
    {
     "data": {
      "text/plain": [
       "{'accuracy': 80.03,\n",
       " 'precision': 63.96,\n",
       " 'recall': 56.95,\n",
       " 'f1': 60.25,\n",
       " 'roc_auc': 83.67}"
      ]
     },
     "execution_count": 14,
     "metadata": {},
     "output_type": "execute_result"
    }
   ],
   "source": [
    "from sklearn.model_selection import train_test_split\n",
    "from sklearn.compose import ColumnTransformer\n",
    "from sklearn.preprocessing import OneHotEncoder\n",
    "from sklearn.pipeline import Pipeline\n",
    "from sklearn.linear_model import LogisticRegression\n",
    "from sklearn.metrics import accuracy_score, precision_score, recall_score, f1_score, roc_auc_score\n",
    "\n",
    "# Identify categorical vs numeric columns\n",
    "cat_cols = X.select_dtypes(include=\"object\").columns.tolist()\n",
    "num_cols = X.select_dtypes(exclude=\"object\").columns.tolist()\n",
    "\n",
    "# Simple one-hot encoder (drop='first' to avoid dummy trap as per notes)\n",
    "preprocess = ColumnTransformer(\n",
    "    transformers=[\n",
    "        (\"cat\", OneHotEncoder(handle_unknown=\"ignore\", drop=\"first\"), cat_cols),\n",
    "        (\"num\", \"passthrough\", num_cols)\n",
    "    ]\n",
    ")\n",
    "\n",
    "# Baseline Logistic Regression pipeline (notes default, no heavy tuning)\n",
    "logreg = Pipeline(steps=[\n",
    "    (\"prep\", preprocess),\n",
    "    (\"clf\", LogisticRegression(max_iter=1000))\n",
    "])\n",
    "\n",
    "X_train, X_test, y_train, y_test = train_test_split(\n",
    "    X, y, test_size=0.2, stratify=y, random_state=42\n",
    ")\n",
    "\n",
    "logreg.fit(X_train, y_train)\n",
    "pred = logreg.predict(X_test)\n",
    "proba = logreg.predict_proba(X_test)[:,1]\n",
    "\n",
    "metrics = {\n",
    "    \"accuracy\": accuracy_score(y_test, pred),\n",
    "    \"precision\": precision_score(y_test, pred),\n",
    "    \"recall\": recall_score(y_test, pred),\n",
    "    \"f1\": f1_score(y_test, pred),\n",
    "    \"roc_auc\": roc_auc_score(y_test, proba)\n",
    "}\n",
    "metrics\n",
    "\n",
    "def to_pct(d, ndigits=2):\n",
    "    return {k: round(v*100, ndigits) for k, v in d.items()}\n",
    "\n",
    "pct_metrics = to_pct(metrics, 2)\n",
    "pct_metrics\n"
   ]
  },
  {
   "cell_type": "markdown",
   "id": "593f6201",
   "metadata": {},
   "source": [
    "#Confusion matrix(How many predictions were correct)"
   ]
  },
  {
   "cell_type": "code",
   "execution_count": 15,
   "id": "fbceb44c",
   "metadata": {},
   "outputs": [
    {
     "data": {
      "image/png": "[encoded data removed]",
      "text/plain": [
       "<Figure size 640x480 with 2 Axes>"
      ]
     },
     "metadata": {},
     "output_type": "display_data"
    },
    {
     "data": {
      "text/plain": [
       "array([[913, 120],\n",
       "       [161, 213]], dtype=int64)"
      ]
     },
     "execution_count": 15,
     "metadata": {},
     "output_type": "execute_result"
    }
   ],
   "source": [
    "from sklearn.metrics import confusion_matrix, ConfusionMatrixDisplay\n",
    "import matplotlib.pyplot as plt\n",
    "\n",
    "cm = confusion_matrix(y_test, pred)\n",
    "disp = ConfusionMatrixDisplay(confusion_matrix=cm)\n",
    "disp.plot(cmap=\"Blues\")\n",
    "plt.show()\n",
    "\n",
    "cm\n"
   ]
  },
  {
   "cell_type": "markdown",
   "id": "8cad2b2b",
   "metadata": {},
   "source": [
    "Compare Logistic Regression, Naive Bayes, Decision Tree, Random Forest, KNN, and SVM on the same one‑hot encoded data (scale only KNN/SVM) and report Accuracy, Precision, Recall, F1, and ROC‑AUC as percentages to pick the best simple classifier for churn."
   ]
  },
  {
   "cell_type": "code",
   "execution_count": 16,
   "id": "04e41713",
   "metadata": {},
   "outputs": [
    {
     "data": {
      "text/plain": [
       "{'LogReg': {'accuracy': 80.03,\n",
       "  'precision': 63.96,\n",
       "  'recall': 56.95,\n",
       "  'f1': 60.25,\n",
       "  'roc_auc': 83.67},\n",
       " 'NB': {'accuracy': 64.39,\n",
       "  'precision': 41.79,\n",
       "  'recall': 86.36,\n",
       "  'f1': 56.32,\n",
       "  'roc_auc': 81.05},\n",
       " 'DT': {'accuracy': 71.14,\n",
       "  'precision': 45.88,\n",
       "  'recall': 47.59,\n",
       "  'f1': 46.72,\n",
       "  'roc_auc': 63.63},\n",
       " 'RF': {'accuracy': 78.82,\n",
       "  'precision': 62.75,\n",
       "  'recall': 50.0,\n",
       "  'f1': 55.65,\n",
       "  'roc_auc': 81.89},\n",
       " 'KNN': {'accuracy': 75.48,\n",
       "  'precision': 53.87,\n",
       "  'recall': 54.01,\n",
       "  'f1': 53.94,\n",
       "  'roc_auc': 76.75},\n",
       " 'SVM': {'accuracy': 78.89,\n",
       "  'precision': 63.23,\n",
       "  'recall': 49.2,\n",
       "  'f1': 55.34,\n",
       "  'roc_auc': 79.45}}"
      ]
     },
     "execution_count": 16,
     "metadata": {},
     "output_type": "execute_result"
    }
   ],
   "source": [
    "from sklearn.naive_bayes import GaussianNB\n",
    "from sklearn.tree import DecisionTreeClassifier\n",
    "from sklearn.ensemble import RandomForestClassifier\n",
    "from sklearn.neighbors import KNeighborsClassifier\n",
    "from sklearn.svm import SVC\n",
    "from sklearn.preprocessing import StandardScaler\n",
    "\n",
    "from sklearn.metrics import accuracy_score, precision_score, recall_score, f1_score, roc_auc_score\n",
    "\n",
    "def eval_model(pipe):\n",
    "    pipe.fit(X_train, y_train)\n",
    "    p = pipe.predict(X_test)\n",
    "    # Get a score for ROC-AUC\n",
    "    if hasattr(pipe, \"predict_proba\"):\n",
    "        pr = pipe.predict_proba(X_test)[:,1]\n",
    "    else:\n",
    "        pr = pipe.decision_function(X_test)\n",
    "    out = {\n",
    "        \"accuracy\": accuracy_score(y_test, p),\n",
    "        \"precision\": precision_score(y_test, p),\n",
    "        \"recall\": recall_score(y_test, p),\n",
    "        \"f1\": f1_score(y_test, p),\n",
    "        \"roc_auc\": roc_auc_score(y_test, pr)\n",
    "    }\n",
    "    # convert to percentages\n",
    "    return {k: round(v*100, 2) for k, v in out.items()}\n",
    "\n",
    "# Reuse the same preprocess (one-hot + passthrough numerics)\n",
    "# 1) Logistic Regression (already trained) — re-evaluate for consistent formatting\n",
    "logreg_pct = {k: round(v*100, 2) for k, v in metrics.items()}\n",
    "\n",
    "# 2) Naive Bayes\n",
    "nb = Pipeline(steps=[\n",
    "    (\"prep\", preprocess),\n",
    "    (\"clf\", GaussianNB())\n",
    "])\n",
    "nb_pct = eval_model(nb)\n",
    "\n",
    "# 3) Decision Tree\n",
    "dt = Pipeline(steps=[\n",
    "    (\"prep\", preprocess),\n",
    "    (\"clf\", DecisionTreeClassifier(random_state=42))\n",
    "])\n",
    "dt_pct = eval_model(dt)\n",
    "\n",
    "# 4) Random Forest\n",
    "rf = Pipeline(steps=[\n",
    "    (\"prep\", preprocess),\n",
    "    (\"clf\", RandomForestClassifier(n_estimators=200, random_state=42))\n",
    "])\n",
    "rf_pct = eval_model(rf)\n",
    "\n",
    "# 5) KNN (scale needed for distance-based model)\n",
    "knn = Pipeline(steps=[\n",
    "    (\"prep\", preprocess),\n",
    "    (\"scale\", StandardScaler(with_mean=False)),  # safe with sparse one-hot\n",
    "    (\"clf\", KNeighborsClassifier(n_neighbors=5))\n",
    "])\n",
    "knn_pct = eval_model(knn)\n",
    "\n",
    "# 6) SVM (scale + probability for ROC-AUC)\n",
    "svm = Pipeline(steps=[\n",
    "    (\"prep\", preprocess),\n",
    "    (\"scale\", StandardScaler(with_mean=False)),\n",
    "    (\"clf\", SVC(kernel=\"rbf\", probability=True, random_state=42))\n",
    "])\n",
    "svm_pct = eval_model(svm)\n",
    "\n",
    "results_pct = {\n",
    "    \"LogReg\": logreg_pct,\n",
    "    \"NB\": nb_pct,\n",
    "    \"DT\": dt_pct,\n",
    "    \"RF\": rf_pct,\n",
    "    \"KNN\": knn_pct,\n",
    "    \"SVM\": svm_pct\n",
    "}\n",
    "results_pct\n"
   ]
  },
  {
   "cell_type": "code",
   "execution_count": 17,
   "id": "746f15e3",
   "metadata": {},
   "outputs": [
    {
     "data": {
      "text/plain": [
       "{'PCA_components': 1,\n",
       " 'LogReg_noPCA': {'accuracy': 80.03,\n",
       "  'precision': 63.96,\n",
       "  'recall': 56.95,\n",
       "  'f1': 60.25,\n",
       "  'roc_auc': 83.67},\n",
       " 'LogReg_withPCA': {'accuracy': 73.42, 'roc_auc': 65.49}}"
      ]
     },
     "execution_count": 17,
     "metadata": {},
     "output_type": "execute_result"
    }
   ],
   "source": [
    "from sklearn.decomposition import PCA\n",
    "from sklearn.pipeline import Pipeline\n",
    "from sklearn.metrics import accuracy_score, roc_auc_score\n",
    "\n",
    "# Pipeline: preprocess -> PCA -> Logistic Regression\n",
    "pca_logreg = Pipeline(steps=[\n",
    "    (\"prep\", preprocess),\n",
    "    (\"pca\", PCA(n_components=0.95, svd_solver=\"full\")),  # keep 95% variance\n",
    "    (\"clf\", LogisticRegression(max_iter=1000))\n",
    "])\n",
    "\n",
    "pca_logreg.fit(X_train, y_train)\n",
    "p_pred = pca_logreg.predict(X_test)\n",
    "p_proba = pca_logreg.predict_proba(X_test)[:,1]\n",
    "\n",
    "p_metrics = {\n",
    "    \"accuracy\": round(accuracy_score(y_test, p_pred)*100, 2),\n",
    "    \"roc_auc\": round(roc_auc_score(y_test, p_proba)*100, 2)\n",
    "}\n",
    "n_comp = pca_logreg.named_steps[\"pca\"].n_components_\n",
    "{\"PCA_components\": int(n_comp), \"LogReg_noPCA\": {k: round(v*100,2) for k,v in metrics.items()}, \"LogReg_withPCA\": p_metrics}\n"
   ]
  },
  {
   "cell_type": "markdown",
   "id": "bd97857b",
   "metadata": {},
   "source": [
    "# Tele Customer Churn — Summary\n",
    "\n",
    "### Overview\n",
    "- Goal: Predict churn (Yes/No) with a simple, notes‑aligned pipeline; final model is non‑PCA Logistic Regression due to stronger Accuracy and ROC‑AUC. [attached_file:8]\n",
    "\n",
    "### Data and cleaning\n",
    "- Data: Telco Customer Churn CSV; target Churn; 7,032 rows used after cleaning. [attached_file:8]\n",
    "- Cleaning: dropped customerID, stripped whitespace in strings, converted TotalCharges to numeric, dropped rows where it became NaN. [attached_file:6]\n",
    "\n",
    "### Preprocessing\n",
    "- One‑hot encoded categorical features with drop‑first; numeric features passed through; avoided dummy trap. [attached_file:6]\n",
    "- Train/test split with stratify on Churn to preserve class balance. [attached_file:8]\n",
    "\n",
    "### Baseline model\n",
    "- Pipeline: preprocess → Logistic Regression (simple defaults). [attached_file:8]\n",
    "- Test metrics (%): Accuracy 80.03, Precision 63.96, Recall 56.95, F1 60.25, ROC‑AUC 83.67. [attached_file:8]\n",
    "\n",
    "### Confusion matrix\n",
    "- Used to visualize TP, TN, FP, FN; complements percentage metrics for final evaluation. [attached_file:8]\n",
    "\n",
    "### Model comparison\n",
    "- Compared Naive Bayes, Decision Tree, Random Forest, KNN, and SVM with the same preprocessing; scaled only KNN/SVM. [attached_file:0][attached_file:1][attached_file:6]\n",
    "- Selection note: prefer by ROC‑AUC and confirm Recall; if similar, keep Logistic Regression for interpretability. [attached_file:8]\n",
    "\n",
    "### PCA check\n",
    "- PCA (95% variance → 1 component) reduced performance (Acc 73.42, ROC‑AUC 65.49); not adopted. [attached_file:3]\n",
    "\n",
    "### Conclusion\n",
    "- Final choice: non‑PCA Logistic Regression with the reported metrics; include confusion matrix plot and optionally note the simple model comparison for due diligence. [attached_file:8][attached_file:0]\n"
   ]
  }
 ],
 "metadata": {
  "kernelspec": {
   "display_name": "base",
   "language": "python",
   "name": "python3"
  },
  "language_info": {
   "codemirror_mode": {
    "name": "ipython",
    "version": 3
   },
   "file_extension": ".py",
   "mimetype": "text/x-python",
   "name": "python",
   "nbconvert_exporter": "python",
   "pygments_lexer": "ipython3",
   "version": "3.10.9"
  }
 },
 "nbformat": 4,
 "nbformat_minor": 5
}
